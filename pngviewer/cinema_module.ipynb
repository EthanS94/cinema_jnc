{
 "cells": [
  {
   "cell_type": "code",
   "execution_count": 1,
   "metadata": {},
   "outputs": [
    {
     "data": {
      "application/vnd.jupyter.widget-view+json": {
       "model_id": "98c1f83609134fe581c06582784aa7ae",
       "version_major": 2,
       "version_minor": 0
      },
      "text/plain": [
       "VBox(children=(Output(layout=Layout(border='0px solid black', width='98%')), HBox(children=(Output(layout=Layo…"
      ]
     },
     "metadata": {},
     "output_type": "display_data"
    }
   ],
   "source": [
    "import cinesci\n",
    "\n",
    "# create a viewer object\n",
    "viewer = cinesci.pynb.CinemaViewer()\n",
    "# optionally set the layout of the viewer\n",
    "viewer.setLayoutToHorizontal()\n",
    "# optionally set the height of the viewer\n",
    "viewer.setHeight(250)\n",
    "# load one or more cinema databases\n",
    "viewer.load(\"data/sphere.cdb data/sphere_01.cdb\")"
   ]
  },
  {
   "cell_type": "code",
   "execution_count": 2,
   "metadata": {},
   "outputs": [
    {
     "data": {
      "application/vnd.jupyter.widget-view+json": {
       "model_id": "d463ad3bf0774275b90a1d3cda316083",
       "version_major": 2,
       "version_minor": 0
      },
      "text/plain": [
       "VBox(children=(Output(layout=Layout(border='0px solid black', width='98%')), HBox(children=(Output(layout=Layo…"
      ]
     },
     "metadata": {},
     "output_type": "display_data"
    }
   ],
   "source": [
    "# example with defaults\n",
    "viewer2 = cinesci.pynb.CinemaViewer()\n",
    "viewer2.load(\"data/sphere.cdb data/sphere_01.cdb\")"
   ]
  },
  {
   "cell_type": "code",
   "execution_count": null,
   "metadata": {},
   "outputs": [],
   "source": []
  }
 ],
 "metadata": {
  "kernelspec": {
   "display_name": "Python 3",
   "language": "python",
   "name": "python3"
  },
  "language_info": {
   "codemirror_mode": {
    "name": "ipython",
    "version": 3
   },
   "file_extension": ".py",
   "mimetype": "text/x-python",
   "name": "python",
   "nbconvert_exporter": "python",
   "pygments_lexer": "ipython3",
   "version": "3.7.7"
  }
 },
 "nbformat": 4,
 "nbformat_minor": 4
}
